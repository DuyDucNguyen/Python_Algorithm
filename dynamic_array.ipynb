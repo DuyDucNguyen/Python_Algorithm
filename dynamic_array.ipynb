{
 "cells": [
  {
   "cell_type": "code",
   "execution_count": 2,
   "metadata": {},
   "outputs": [
    {
     "data": {
      "application/javascript": [
       "MathJax.Hub.Config({\n",
       "    TeX: { equationNumbers: { autoNumber: \"AMS\" } }\n",
       "});\n"
      ],
      "text/plain": [
       "<IPython.core.display.Javascript object>"
      ]
     },
     "metadata": {},
     "output_type": "display_data"
    }
   ],
   "source": [
    "%%javascript\n",
    "MathJax.Hub.Config({\n",
    "    TeX: { equationNumbers: { autoNumber: \"AMS\" } }\n",
    "});\n"
   ]
  },
  {
   "cell_type": "markdown",
   "metadata": {},
   "source": [
    "### Array in Python\n",
    "<strong>Three kinds of array in Python</strong>:  List [1,2,3], Tuple (1,2,3) and String \"123\". \n",
    "\n",
    "**Low level array**: an array is defined as a collection of bytes, (1 byte = 8 bits). Each byte is addressed by a number, for example byte #1111. The time for storing or retrieving a byte is O(1). Each element of the array references to an object. For example: array = [0]*8: eight cells reference the same object 0; array[2] += 1: cell number 2 reference to a new object 1. In general, an array is actully references some objects, it does not create new object. \n",
    "\n",
    "**high level array**: str = \"123456\", str[0] = \"1\"\n",
    "\n",
    "backup, deep copy"
   ]
  },
  {
   "cell_type": "markdown",
   "metadata": {},
   "source": [
    "<strong>Array in Python is dynamic</strong>: an array in Python can be defined without specified the size. The size will be increased when it append new element. \n",
    "For example: create and empty array, it has 64 bytes by default. Adding new elements continuously, its capacity will run out at some point and Python will extend its size automatically. "
   ]
  },
  {
   "cell_type": "code",
   "execution_count": 40,
   "metadata": {},
   "outputs": [
    {
     "name": "stdout",
     "output_type": "stream",
     "text": [
      "Length: 0, Size in bytes: 64\n",
      "Length: 1, Size in bytes: 96\n",
      "Length: 2, Size in bytes: 96\n",
      "Length: 3, Size in bytes: 96\n",
      "Length: 4, Size in bytes: 96\n",
      "Length: 5, Size in bytes: 128\n",
      "Length: 6, Size in bytes: 128\n",
      "Length: 7, Size in bytes: 128\n",
      "Length: 8, Size in bytes: 128\n",
      "Length: 9, Size in bytes: 192\n",
      "Length: 10, Size in bytes: 192\n"
     ]
    }
   ],
   "source": [
    "import sys\n",
    "\n",
    "# define an empty array\n",
    "array = []\n",
    "\n",
    "# get size of the array in bytes\n",
    "size = sys.getsizeof(array)\n",
    "\n",
    "# size of the empty array\n",
    "print(\"Length: {}, Size in bytes: {}\".format( len(array), size))\n",
    "\n",
    "for i in range(10): \n",
    "    array.append(i)\n",
    "    size = sys.getsizeof(array)\n",
    "    print(\"Length: {}, Size in bytes: {}\".format( len(array), size))\n",
    "    \n",
    "\n"
   ]
  },
  {
   "cell_type": "markdown",
   "metadata": {},
   "source": [
    "Build your own dynamic array by following these steps: <br>\n",
    "S1: create new array B <br>\n",
    "S2: store elements of A in B <br>\n",
    "S3: reassign reference A to the new array <br>\n",
    "S*: B usually has twice size of A\n"
   ]
  },
  {
   "cell_type": "code",
   "execution_count": 41,
   "metadata": {
    "scrolled": false
   },
   "outputs": [
    {
     "name": "stdout",
     "output_type": "stream",
     "text": [
      "n=0, cap=1, A=<__main__.py_object_Array_1 object at 0x7f652ab011e0>\n",
      "n=1, cap=1, A=<__main__.py_object_Array_1 object at 0x7f652ab011e0>\n",
      "n=2, cap=2, A=<__main__.py_object_Array_2 object at 0x7f652ab019d8>\n",
      "n=3, cap=4, A=<__main__.py_object_Array_4 object at 0x7f652ab01d08>\n",
      "1\n",
      "2\n",
      "3\n",
      " \n"
     ]
    }
   ],
   "source": [
    "import ctypes\n",
    "# ctypes: allow to create Python objects\n",
    "\n",
    "\n",
    "class MyDynamicArray(object):\n",
    "    \"an array should have 1.size n 2.append new element 3. \"\n",
    "    \n",
    "    def __init__(self):\n",
    "        self.n = 0\n",
    "        self.capacity = 1 \n",
    "        self.A = self.make_array(self.capacity)\n",
    "        \n",
    "    def make_array(self, new_cap): \n",
    "        return (new_cap * ctypes.py_object)() \n",
    "        \n",
    "    def append(self, ele):\n",
    "        if self.n == self.capacity:\n",
    "            new_cap = self.capacity*2\n",
    "            # S1: create array B having double size self\n",
    "            B = self.make_array(new_cap)\n",
    "            # S2: B[i] = A[i]\n",
    "            for i in range(self.capacity):\n",
    "                B[i] = self.A[i]\n",
    "            # S3: A = B\n",
    "            self.A = B\n",
    "            self.capacity = new_cap\n",
    "            \n",
    "        self.A[self.n] = ele \n",
    "        self.n += 1\n",
    "            \n",
    "    def __getitem__(self, k):   \n",
    "        return self.A[k]\n",
    "            \n",
    "    def __str__(self):\n",
    "        for i in range(self.n):\n",
    "            print(self.A[i])\n",
    "        return \" \"\n",
    "        \n",
    "            \n",
    "array = MyDynamicArray()\n",
    "print(\"n={}, cap={}, A={}\".format(array.n, array.capacity, array.A) )\n",
    "\n",
    "array.append(1)\n",
    "print(\"n={}, cap={}, A={}\".format(array.n, array.capacity, array.A) )\n",
    "\n",
    "array.append(2)\n",
    "print(\"n={}, cap={}, A={}\".format(array.n, array.capacity, array.A) )\n",
    "\n",
    "array.append(3)\n",
    "print(\"n={}, cap={}, A={}\".format(array.n, array.capacity, array.A) )\n",
    "\n",
    "print(array)"
   ]
  },
  {
   "cell_type": "markdown",
   "metadata": {},
   "source": [
    "**Amortization**: "
   ]
  },
  {
   "cell_type": "markdown",
   "metadata": {},
   "source": [
    "Dynamic Arrays and Amortization\n",
    "\n",
    "Mini project:\n",
    "\n",
    "Exercies:\n",
    "\n"
   ]
  },
  {
   "cell_type": "markdown",
   "metadata": {},
   "source": [
    "# Ref\n",
    "[1] https://www.geeksforgeeks.org/implementation-of-dynamic-array-in-python/"
   ]
  }
 ],
 "metadata": {
  "colab": {
   "collapsed_sections": [],
   "include_colab_link": true,
   "name": "Heat_Transfer.ipynb",
   "provenance": [],
   "version": "0.3.2"
  },
  "kernelspec": {
   "display_name": "Python 3",
   "language": "python",
   "name": "python3"
  },
  "language_info": {
   "codemirror_mode": {
    "name": "ipython",
    "version": 3
   },
   "file_extension": ".py",
   "mimetype": "text/x-python",
   "name": "python",
   "nbconvert_exporter": "python",
   "pygments_lexer": "ipython3",
   "version": "3.6.8"
  }
 },
 "nbformat": 4,
 "nbformat_minor": 1
}
